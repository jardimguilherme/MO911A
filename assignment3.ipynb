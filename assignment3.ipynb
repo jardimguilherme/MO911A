{
  "nbformat": 4,
  "nbformat_minor": 0,
  "metadata": {
    "colab": {
      "provenance": [],
      "authorship_tag": "ABX9TyNzQPJuNNmuj2xZkRbdcrpS",
      "include_colab_link": true
    },
    "kernelspec": {
      "name": "python3",
      "display_name": "Python 3"
    },
    "language_info": {
      "name": "python"
    }
  },
  "cells": [
    {
      "cell_type": "markdown",
      "metadata": {
        "id": "view-in-github",
        "colab_type": "text"
      },
      "source": [
        "<a href=\"https://colab.research.google.com/github/jardimguilherme/MO911A/blob/master/assignment3.ipynb\" target=\"_parent\"><img src=\"https://colab.research.google.com/assets/colab-badge.svg\" alt=\"Open In Colab\"/></a>"
      ]
    },
    {
      "cell_type": "markdown",
      "source": [
        "Setting up environment"
      ],
      "metadata": {
        "id": "v9iRcUDeR17C"
      }
    },
    {
      "cell_type": "code",
      "execution_count": 132,
      "metadata": {
        "id": "a4mgO4cCL3R5"
      },
      "outputs": [],
      "source": [
        "import numpy as np\n",
        "import pandas as pd\n",
        "import scipy.stats as stats\n",
        "import matplotlib.pyplot as plt"
      ]
    },
    {
      "cell_type": "markdown",
      "source": [
        "# bp.csv"
      ],
      "metadata": {
        "id": "DzKuV6ioSr3V"
      }
    },
    {
      "cell_type": "markdown",
      "source": [
        "## Data Cleaning"
      ],
      "metadata": {
        "id": "wgzZfoHIYRKy"
      }
    },
    {
      "cell_type": "markdown",
      "source": [
        "Reading bp.csv and building dataframe"
      ],
      "metadata": {
        "id": "RGnEPiV1R4uL"
      }
    },
    {
      "cell_type": "code",
      "source": [
        "bp = pd.read_csv(\"bp.csv\")\n",
        "dfbp = pd.DataFrame(bp)\n",
        "\n",
        "dfbp"
      ],
      "metadata": {
        "id": "9ue4fNBXNfkJ",
        "colab": {
          "base_uri": "https://localhost:8080/",
          "height": 424
        },
        "outputId": "80007338-7eb0-49c1-9f8d-6831ceb5ee78"
      },
      "execution_count": 133,
      "outputs": [
        {
          "output_type": "execute_result",
          "data": {
            "text/plain": [
              "     bp type\n",
              "0    68   No\n",
              "1    70  Yes\n",
              "2    82   No\n",
              "3    76   No\n",
              "4    60   No\n",
              "..   ..  ...\n",
              "195  58   No\n",
              "196  68  Yes\n",
              "197  70   No\n",
              "198  58   No\n",
              "199  62  Yes\n",
              "\n",
              "[200 rows x 2 columns]"
            ],
            "text/html": [
              "\n",
              "  <div id=\"df-eca0dfa1-26b7-47c5-b9c9-14912c653789\">\n",
              "    <div class=\"colab-df-container\">\n",
              "      <div>\n",
              "<style scoped>\n",
              "    .dataframe tbody tr th:only-of-type {\n",
              "        vertical-align: middle;\n",
              "    }\n",
              "\n",
              "    .dataframe tbody tr th {\n",
              "        vertical-align: top;\n",
              "    }\n",
              "\n",
              "    .dataframe thead th {\n",
              "        text-align: right;\n",
              "    }\n",
              "</style>\n",
              "<table border=\"1\" class=\"dataframe\">\n",
              "  <thead>\n",
              "    <tr style=\"text-align: right;\">\n",
              "      <th></th>\n",
              "      <th>bp</th>\n",
              "      <th>type</th>\n",
              "    </tr>\n",
              "  </thead>\n",
              "  <tbody>\n",
              "    <tr>\n",
              "      <th>0</th>\n",
              "      <td>68</td>\n",
              "      <td>No</td>\n",
              "    </tr>\n",
              "    <tr>\n",
              "      <th>1</th>\n",
              "      <td>70</td>\n",
              "      <td>Yes</td>\n",
              "    </tr>\n",
              "    <tr>\n",
              "      <th>2</th>\n",
              "      <td>82</td>\n",
              "      <td>No</td>\n",
              "    </tr>\n",
              "    <tr>\n",
              "      <th>3</th>\n",
              "      <td>76</td>\n",
              "      <td>No</td>\n",
              "    </tr>\n",
              "    <tr>\n",
              "      <th>4</th>\n",
              "      <td>60</td>\n",
              "      <td>No</td>\n",
              "    </tr>\n",
              "    <tr>\n",
              "      <th>...</th>\n",
              "      <td>...</td>\n",
              "      <td>...</td>\n",
              "    </tr>\n",
              "    <tr>\n",
              "      <th>195</th>\n",
              "      <td>58</td>\n",
              "      <td>No</td>\n",
              "    </tr>\n",
              "    <tr>\n",
              "      <th>196</th>\n",
              "      <td>68</td>\n",
              "      <td>Yes</td>\n",
              "    </tr>\n",
              "    <tr>\n",
              "      <th>197</th>\n",
              "      <td>70</td>\n",
              "      <td>No</td>\n",
              "    </tr>\n",
              "    <tr>\n",
              "      <th>198</th>\n",
              "      <td>58</td>\n",
              "      <td>No</td>\n",
              "    </tr>\n",
              "    <tr>\n",
              "      <th>199</th>\n",
              "      <td>62</td>\n",
              "      <td>Yes</td>\n",
              "    </tr>\n",
              "  </tbody>\n",
              "</table>\n",
              "<p>200 rows × 2 columns</p>\n",
              "</div>\n",
              "      <button class=\"colab-df-convert\" onclick=\"convertToInteractive('df-eca0dfa1-26b7-47c5-b9c9-14912c653789')\"\n",
              "              title=\"Convert this dataframe to an interactive table.\"\n",
              "              style=\"display:none;\">\n",
              "        \n",
              "  <svg xmlns=\"http://www.w3.org/2000/svg\" height=\"24px\"viewBox=\"0 0 24 24\"\n",
              "       width=\"24px\">\n",
              "    <path d=\"M0 0h24v24H0V0z\" fill=\"none\"/>\n",
              "    <path d=\"M18.56 5.44l.94 2.06.94-2.06 2.06-.94-2.06-.94-.94-2.06-.94 2.06-2.06.94zm-11 1L8.5 8.5l.94-2.06 2.06-.94-2.06-.94L8.5 2.5l-.94 2.06-2.06.94zm10 10l.94 2.06.94-2.06 2.06-.94-2.06-.94-.94-2.06-.94 2.06-2.06.94z\"/><path d=\"M17.41 7.96l-1.37-1.37c-.4-.4-.92-.59-1.43-.59-.52 0-1.04.2-1.43.59L10.3 9.45l-7.72 7.72c-.78.78-.78 2.05 0 2.83L4 21.41c.39.39.9.59 1.41.59.51 0 1.02-.2 1.41-.59l7.78-7.78 2.81-2.81c.8-.78.8-2.07 0-2.86zM5.41 20L4 18.59l7.72-7.72 1.47 1.35L5.41 20z\"/>\n",
              "  </svg>\n",
              "      </button>\n",
              "      \n",
              "  <style>\n",
              "    .colab-df-container {\n",
              "      display:flex;\n",
              "      flex-wrap:wrap;\n",
              "      gap: 12px;\n",
              "    }\n",
              "\n",
              "    .colab-df-convert {\n",
              "      background-color: #E8F0FE;\n",
              "      border: none;\n",
              "      border-radius: 50%;\n",
              "      cursor: pointer;\n",
              "      display: none;\n",
              "      fill: #1967D2;\n",
              "      height: 32px;\n",
              "      padding: 0 0 0 0;\n",
              "      width: 32px;\n",
              "    }\n",
              "\n",
              "    .colab-df-convert:hover {\n",
              "      background-color: #E2EBFA;\n",
              "      box-shadow: 0px 1px 2px rgba(60, 64, 67, 0.3), 0px 1px 3px 1px rgba(60, 64, 67, 0.15);\n",
              "      fill: #174EA6;\n",
              "    }\n",
              "\n",
              "    [theme=dark] .colab-df-convert {\n",
              "      background-color: #3B4455;\n",
              "      fill: #D2E3FC;\n",
              "    }\n",
              "\n",
              "    [theme=dark] .colab-df-convert:hover {\n",
              "      background-color: #434B5C;\n",
              "      box-shadow: 0px 1px 3px 1px rgba(0, 0, 0, 0.15);\n",
              "      filter: drop-shadow(0px 1px 2px rgba(0, 0, 0, 0.3));\n",
              "      fill: #FFFFFF;\n",
              "    }\n",
              "  </style>\n",
              "\n",
              "      <script>\n",
              "        const buttonEl =\n",
              "          document.querySelector('#df-eca0dfa1-26b7-47c5-b9c9-14912c653789 button.colab-df-convert');\n",
              "        buttonEl.style.display =\n",
              "          google.colab.kernel.accessAllowed ? 'block' : 'none';\n",
              "\n",
              "        async function convertToInteractive(key) {\n",
              "          const element = document.querySelector('#df-eca0dfa1-26b7-47c5-b9c9-14912c653789');\n",
              "          const dataTable =\n",
              "            await google.colab.kernel.invokeFunction('convertToInteractive',\n",
              "                                                     [key], {});\n",
              "          if (!dataTable) return;\n",
              "\n",
              "          const docLinkHtml = 'Like what you see? Visit the ' +\n",
              "            '<a target=\"_blank\" href=https://colab.research.google.com/notebooks/data_table.ipynb>data table notebook</a>'\n",
              "            + ' to learn more about interactive tables.';\n",
              "          element.innerHTML = '';\n",
              "          dataTable['output_type'] = 'display_data';\n",
              "          await google.colab.output.renderOutput(dataTable, element);\n",
              "          const docLink = document.createElement('div');\n",
              "          docLink.innerHTML = docLinkHtml;\n",
              "          element.appendChild(docLink);\n",
              "        }\n",
              "      </script>\n",
              "    </div>\n",
              "  </div>\n",
              "  "
            ]
          },
          "metadata": {},
          "execution_count": 133
        }
      ]
    },
    {
      "cell_type": "markdown",
      "source": [
        "Clustering information"
      ],
      "metadata": {
        "id": "2hWzcVkDR_v5"
      }
    },
    {
      "cell_type": "code",
      "source": [
        "yes = dfbp.query(\"type == 'Yes'\")\n",
        "no = dfbp.query(\"type == 'No'\")\n",
        "\n",
        "yes = list(yes['bp'])\n",
        "no = list(no['bp'])\n",
        "\n",
        "print(\"diabetic:\", yes)\n",
        "print(\"non-diabetic:\", no)"
      ],
      "metadata": {
        "colab": {
          "base_uri": "https://localhost:8080/"
        },
        "id": "40NCKkfxOmca",
        "outputId": "f51cb660-3715-4cf8-bd6d-3a630f26ffbf"
      },
      "execution_count": 134,
      "outputs": [
        {
          "output_type": "stream",
          "name": "stdout",
          "text": [
            "diabetic: [70, 76, 78, 40, 60, 62, 94, 68, 84, 65, 66, 80, 90, 72, 76, 78, 106, 84, 80, 70, 66, 84, 74, 68, 88, 82, 62, 78, 70, 70, 78, 82, 84, 62, 82, 70, 66, 76, 82, 60, 80, 70, 82, 68, 92, 74, 90, 60, 78, 66, 82, 88, 70, 76, 78, 90, 60, 68, 78, 85, 74, 60, 78, 62, 102, 48, 68, 62]\n",
            "non-diabetic: [68, 82, 76, 60, 58, 50, 80, 78, 66, 76, 60, 62, 70, 66, 86, 64, 68, 58, 72, 74, 60, 66, 64, 82, 80, 48, 86, 66, 68, 60, 64, 68, 60, 74, 76, 74, 66, 66, 70, 88, 74, 38, 48, 64, 76, 62, 60, 54, 94, 70, 58, 68, 78, 64, 72, 76, 68, 76, 64, 60, 75, 78, 54, 72, 76, 76, 50, 82, 80, 62, 72, 64, 74, 74, 110, 72, 78, 84, 74, 56, 72, 70, 86, 52, 56, 80, 95, 66, 58, 68, 80, 72, 68, 70, 88, 70, 62, 70, 78, 56, 80, 55, 74, 64, 82, 74, 54, 82, 60, 52, 58, 72, 90, 68, 72, 70, 62, 90, 80, 74, 54, 85, 66, 70, 52, 64, 84, 68, 74, 58, 70, 58]\n"
          ]
        }
      ]
    },
    {
      "cell_type": "markdown",
      "source": [
        "## Histograms"
      ],
      "metadata": {
        "id": "aKuxqkGyW-Zx"
      }
    },
    {
      "cell_type": "code",
      "source": [
        "plt.hist(yes, bins='auto')\n",
        "plt.title(\"Histogram for Diabetic\")\n",
        "plt.show()"
      ],
      "metadata": {
        "colab": {
          "base_uri": "https://localhost:8080/",
          "height": 0
        },
        "id": "3FR43bQrWyNU",
        "outputId": "d6cac888-e0b7-479d-842e-f95da528caf2"
      },
      "execution_count": 135,
      "outputs": [
        {
          "output_type": "display_data",
          "data": {
            "text/plain": [
              "<Figure size 432x288 with 1 Axes>"
            ],
            "image/png": "[encoded data removed]"
          },
          "metadata": {
            "needs_background": "light"
          }
        }
      ]
    },
    {
      "cell_type": "code",
      "source": [
        "plt.hist(no, bins='auto')\n",
        "plt.title(\"Histogram for Non-Diabetic\")\n",
        "plt.show()"
      ],
      "metadata": {
        "colab": {
          "base_uri": "https://localhost:8080/",
          "height": 0
        },
        "id": "zeKv3rVAW3Z4",
        "outputId": "a91e55ca-94c9-4399-f66e-66cf6abff7e0"
      },
      "execution_count": 136,
      "outputs": [
        {
          "output_type": "display_data",
          "data": {
            "text/plain": [
              "<Figure size 432x288 with 1 Axes>"
            ],
            "image/png": "[encoded data removed]"
          },
          "metadata": {
            "needs_background": "light"
          }
        }
      ]
    },
    {
      "cell_type": "markdown",
      "source": [
        "## Mean and Median"
      ],
      "metadata": {
        "id": "vyZh8D_IWSO-"
      }
    },
    {
      "cell_type": "markdown",
      "source": [
        "Mean and Median for Diabetic"
      ],
      "metadata": {
        "id": "4lM0V1aTSDUT"
      }
    },
    {
      "cell_type": "code",
      "source": [
        "print(\"mean:\", np.mean(yes))\n",
        "print(\"median:\", np.median(yes))"
      ],
      "metadata": {
        "colab": {
          "base_uri": "https://localhost:8080/"
        },
        "id": "Va7578SuRvK-",
        "outputId": "c6012b22-7601-41ec-d549-dcef40a45584"
      },
      "execution_count": 137,
      "outputs": [
        {
          "output_type": "stream",
          "name": "stdout",
          "text": [
            "mean: 74.58823529411765\n",
            "median: 76.0\n"
          ]
        }
      ]
    },
    {
      "cell_type": "markdown",
      "source": [
        "Mean and Median for Non-Diabetic"
      ],
      "metadata": {
        "id": "K7AjYWIaSK7R"
      }
    },
    {
      "cell_type": "code",
      "source": [
        "print(\"mean:\", np.mean(no))\n",
        "print(\"median:\", np.median(no))"
      ],
      "metadata": {
        "colab": {
          "base_uri": "https://localhost:8080/"
        },
        "id": "egjvv7tJRzGS",
        "outputId": "58f96433-1f5d-43bc-defe-ef3d6c4dd72c"
      },
      "execution_count": 138,
      "outputs": [
        {
          "output_type": "stream",
          "name": "stdout",
          "text": [
            "mean: 69.54545454545455\n",
            "median: 70.0\n"
          ]
        }
      ]
    },
    {
      "cell_type": "markdown",
      "source": [
        "## T-Test and Wilcoxon Rank Sum"
      ],
      "metadata": {
        "id": "NRxe44zYWWrW"
      }
    },
    {
      "cell_type": "markdown",
      "source": [
        "t-test on samples"
      ],
      "metadata": {
        "id": "_4V65pdHSOEV"
      }
    },
    {
      "cell_type": "code",
      "source": [
        "stats.ttest_ind(yes,no)"
      ],
      "metadata": {
        "colab": {
          "base_uri": "https://localhost:8080/"
        },
        "id": "WddhvGayRd-v",
        "outputId": "e331c453-ec47-460f-ba7e-9786f2e7ade0"
      },
      "execution_count": 139,
      "outputs": [
        {
          "output_type": "execute_result",
          "data": {
            "text/plain": [
              "Ttest_indResult(statistic=3.001495202122035, pvalue=0.0030323591864622732)"
            ]
          },
          "metadata": {},
          "execution_count": 139
        }
      ]
    },
    {
      "cell_type": "markdown",
      "source": [
        "wilcoxon rank sum test on samples"
      ],
      "metadata": {
        "id": "slP99llXSgsP"
      }
    },
    {
      "cell_type": "code",
      "source": [
        "stat, p = stats.ranksums(yes,no)\n",
        "print('stat=%.3f, p=%.3f' % (stat, p))\n",
        "if p > 0.05:\n",
        "\tprint('Probably the same distribution')\n",
        "else:\n",
        "\tprint('Probably different distributions')"
      ],
      "metadata": {
        "colab": {
          "base_uri": "https://localhost:8080/"
        },
        "id": "zb8VQixhSefE",
        "outputId": "af492a41-0915-44dc-aaeb-4f78c2904c46"
      },
      "execution_count": 140,
      "outputs": [
        {
          "output_type": "stream",
          "name": "stdout",
          "text": [
            "stat=3.046, p=0.002\n",
            "Probably different distributions\n"
          ]
        }
      ]
    },
    {
      "cell_type": "markdown",
      "source": [
        "# paired.csv"
      ],
      "metadata": {
        "id": "7T9Hs3COSufk"
      }
    },
    {
      "cell_type": "markdown",
      "source": [
        "## Data Cleaning"
      ],
      "metadata": {
        "id": "LvVt6kkhYVcv"
      }
    },
    {
      "cell_type": "code",
      "source": [
        "paired = pd.read_csv(\"paired.csv\")\n",
        "dfpaired = pd.DataFrame(paired)\n",
        "\n",
        "dfpaired"
      ],
      "metadata": {
        "colab": {
          "base_uri": "https://localhost:8080/",
          "height": 0
        },
        "id": "C99oy8GgSydv",
        "outputId": "a2077749-e069-4791-f708-7dd67a473f3e"
      },
      "execution_count": 141,
      "outputs": [
        {
          "output_type": "execute_result",
          "data": {
            "text/plain": [
              "             Clone  August  November\n",
              "0     Balsam_Spire     8.1      11.2\n",
              "1          Beaupre    10.0      16.3\n",
              "2        Hazendans    16.5      15.3\n",
              "3        Hoogvorst    13.6      15.6\n",
              "4         Raspalje     9.5      10.5\n",
              "5             Unal     8.3      15.5\n",
              "6   Columbia_River    18.3      12.7\n",
              "7    Fritzi_Pauley    13.3      11.1\n",
              "8        Trichobel     7.9      19.9\n",
              "9            Gaver     8.1      20.4\n",
              "10          Gibecq     8.9      14.2\n",
              "11           Primo    12.6      12.7\n",
              "12       Wolterson    13.4      36.8"
            ],
            "text/html": [
              "\n",
              "  <div id=\"df-18797559-fad5-497b-8392-44fc5829604e\">\n",
              "    <div class=\"colab-df-container\">\n",
              "      <div>\n",
              "<style scoped>\n",
              "    .dataframe tbody tr th:only-of-type {\n",
              "        vertical-align: middle;\n",
              "    }\n",
              "\n",
              "    .dataframe tbody tr th {\n",
              "        vertical-align: top;\n",
              "    }\n",
              "\n",
              "    .dataframe thead th {\n",
              "        text-align: right;\n",
              "    }\n",
              "</style>\n",
              "<table border=\"1\" class=\"dataframe\">\n",
              "  <thead>\n",
              "    <tr style=\"text-align: right;\">\n",
              "      <th></th>\n",
              "      <th>Clone</th>\n",
              "      <th>August</th>\n",
              "      <th>November</th>\n",
              "    </tr>\n",
              "  </thead>\n",
              "  <tbody>\n",
              "    <tr>\n",
              "      <th>0</th>\n",
              "      <td>Balsam_Spire</td>\n",
              "      <td>8.1</td>\n",
              "      <td>11.2</td>\n",
              "    </tr>\n",
              "    <tr>\n",
              "      <th>1</th>\n",
              "      <td>Beaupre</td>\n",
              "      <td>10.0</td>\n",
              "      <td>16.3</td>\n",
              "    </tr>\n",
              "    <tr>\n",
              "      <th>2</th>\n",
              "      <td>Hazendans</td>\n",
              "      <td>16.5</td>\n",
              "      <td>15.3</td>\n",
              "    </tr>\n",
              "    <tr>\n",
              "      <th>3</th>\n",
              "      <td>Hoogvorst</td>\n",
              "      <td>13.6</td>\n",
              "      <td>15.6</td>\n",
              "    </tr>\n",
              "    <tr>\n",
              "      <th>4</th>\n",
              "      <td>Raspalje</td>\n",
              "      <td>9.5</td>\n",
              "      <td>10.5</td>\n",
              "    </tr>\n",
              "    <tr>\n",
              "      <th>5</th>\n",
              "      <td>Unal</td>\n",
              "      <td>8.3</td>\n",
              "      <td>15.5</td>\n",
              "    </tr>\n",
              "    <tr>\n",
              "      <th>6</th>\n",
              "      <td>Columbia_River</td>\n",
              "      <td>18.3</td>\n",
              "      <td>12.7</td>\n",
              "    </tr>\n",
              "    <tr>\n",
              "      <th>7</th>\n",
              "      <td>Fritzi_Pauley</td>\n",
              "      <td>13.3</td>\n",
              "      <td>11.1</td>\n",
              "    </tr>\n",
              "    <tr>\n",
              "      <th>8</th>\n",
              "      <td>Trichobel</td>\n",
              "      <td>7.9</td>\n",
              "      <td>19.9</td>\n",
              "    </tr>\n",
              "    <tr>\n",
              "      <th>9</th>\n",
              "      <td>Gaver</td>\n",
              "      <td>8.1</td>\n",
              "      <td>20.4</td>\n",
              "    </tr>\n",
              "    <tr>\n",
              "      <th>10</th>\n",
              "      <td>Gibecq</td>\n",
              "      <td>8.9</td>\n",
              "      <td>14.2</td>\n",
              "    </tr>\n",
              "    <tr>\n",
              "      <th>11</th>\n",
              "      <td>Primo</td>\n",
              "      <td>12.6</td>\n",
              "      <td>12.7</td>\n",
              "    </tr>\n",
              "    <tr>\n",
              "      <th>12</th>\n",
              "      <td>Wolterson</td>\n",
              "      <td>13.4</td>\n",
              "      <td>36.8</td>\n",
              "    </tr>\n",
              "  </tbody>\n",
              "</table>\n",
              "</div>\n",
              "      <button class=\"colab-df-convert\" onclick=\"convertToInteractive('df-18797559-fad5-497b-8392-44fc5829604e')\"\n",
              "              title=\"Convert this dataframe to an interactive table.\"\n",
              "              style=\"display:none;\">\n",
              "        \n",
              "  <svg xmlns=\"http://www.w3.org/2000/svg\" height=\"24px\"viewBox=\"0 0 24 24\"\n",
              "       width=\"24px\">\n",
              "    <path d=\"M0 0h24v24H0V0z\" fill=\"none\"/>\n",
              "    <path d=\"M18.56 5.44l.94 2.06.94-2.06 2.06-.94-2.06-.94-.94-2.06-.94 2.06-2.06.94zm-11 1L8.5 8.5l.94-2.06 2.06-.94-2.06-.94L8.5 2.5l-.94 2.06-2.06.94zm10 10l.94 2.06.94-2.06 2.06-.94-2.06-.94-.94-2.06-.94 2.06-2.06.94z\"/><path d=\"M17.41 7.96l-1.37-1.37c-.4-.4-.92-.59-1.43-.59-.52 0-1.04.2-1.43.59L10.3 9.45l-7.72 7.72c-.78.78-.78 2.05 0 2.83L4 21.41c.39.39.9.59 1.41.59.51 0 1.02-.2 1.41-.59l7.78-7.78 2.81-2.81c.8-.78.8-2.07 0-2.86zM5.41 20L4 18.59l7.72-7.72 1.47 1.35L5.41 20z\"/>\n",
              "  </svg>\n",
              "      </button>\n",
              "      \n",
              "  <style>\n",
              "    .colab-df-container {\n",
              "      display:flex;\n",
              "      flex-wrap:wrap;\n",
              "      gap: 12px;\n",
              "    }\n",
              "\n",
              "    .colab-df-convert {\n",
              "      background-color: #E8F0FE;\n",
              "      border: none;\n",
              "      border-radius: 50%;\n",
              "      cursor: pointer;\n",
              "      display: none;\n",
              "      fill: #1967D2;\n",
              "      height: 32px;\n",
              "      padding: 0 0 0 0;\n",
              "      width: 32px;\n",
              "    }\n",
              "\n",
              "    .colab-df-convert:hover {\n",
              "      background-color: #E2EBFA;\n",
              "      box-shadow: 0px 1px 2px rgba(60, 64, 67, 0.3), 0px 1px 3px 1px rgba(60, 64, 67, 0.15);\n",
              "      fill: #174EA6;\n",
              "    }\n",
              "\n",
              "    [theme=dark] .colab-df-convert {\n",
              "      background-color: #3B4455;\n",
              "      fill: #D2E3FC;\n",
              "    }\n",
              "\n",
              "    [theme=dark] .colab-df-convert:hover {\n",
              "      background-color: #434B5C;\n",
              "      box-shadow: 0px 1px 3px 1px rgba(0, 0, 0, 0.15);\n",
              "      filter: drop-shadow(0px 1px 2px rgba(0, 0, 0, 0.3));\n",
              "      fill: #FFFFFF;\n",
              "    }\n",
              "  </style>\n",
              "\n",
              "      <script>\n",
              "        const buttonEl =\n",
              "          document.querySelector('#df-18797559-fad5-497b-8392-44fc5829604e button.colab-df-convert');\n",
              "        buttonEl.style.display =\n",
              "          google.colab.kernel.accessAllowed ? 'block' : 'none';\n",
              "\n",
              "        async function convertToInteractive(key) {\n",
              "          const element = document.querySelector('#df-18797559-fad5-497b-8392-44fc5829604e');\n",
              "          const dataTable =\n",
              "            await google.colab.kernel.invokeFunction('convertToInteractive',\n",
              "                                                     [key], {});\n",
              "          if (!dataTable) return;\n",
              "\n",
              "          const docLinkHtml = 'Like what you see? Visit the ' +\n",
              "            '<a target=\"_blank\" href=https://colab.research.google.com/notebooks/data_table.ipynb>data table notebook</a>'\n",
              "            + ' to learn more about interactive tables.';\n",
              "          element.innerHTML = '';\n",
              "          dataTable['output_type'] = 'display_data';\n",
              "          await google.colab.output.renderOutput(dataTable, element);\n",
              "          const docLink = document.createElement('div');\n",
              "          docLink.innerHTML = docLinkHtml;\n",
              "          element.appendChild(docLink);\n",
              "        }\n",
              "      </script>\n",
              "    </div>\n",
              "  </div>\n",
              "  "
            ]
          },
          "metadata": {},
          "execution_count": 141
        }
      ]
    },
    {
      "cell_type": "markdown",
      "source": [
        "Clustering information"
      ],
      "metadata": {
        "id": "1Jp7UqsoYmAp"
      }
    },
    {
      "cell_type": "code",
      "source": [
        "august = list(dfpaired['August'])\n",
        "november = list(dfpaired['November'])\n",
        "\n",
        "print(\"August:\", august)\n",
        "print(\"November:\", november)"
      ],
      "metadata": {
        "colab": {
          "base_uri": "https://localhost:8080/"
        },
        "id": "nZIqvhMaXjN4",
        "outputId": "ba5e4738-bd6a-4f22-9d6b-40e262e23638"
      },
      "execution_count": 142,
      "outputs": [
        {
          "output_type": "stream",
          "name": "stdout",
          "text": [
            "August: [8.1, 10.0, 16.5, 13.6, 9.5, 8.3, 18.3, 13.3, 7.9, 8.1, 8.9, 12.6, 13.4]\n",
            "November: [11.2, 16.3, 15.3, 15.6, 10.5, 15.5, 12.7, 11.1, 19.9, 20.4, 14.2, 12.7, 36.8]\n"
          ]
        }
      ]
    },
    {
      "cell_type": "markdown",
      "source": [
        "## Histograms"
      ],
      "metadata": {
        "id": "RUAamgZyXzH3"
      }
    },
    {
      "cell_type": "markdown",
      "source": [
        "Histogram for august"
      ],
      "metadata": {
        "id": "Uuu6TS8RYoAg"
      }
    },
    {
      "cell_type": "code",
      "source": [
        "plt.hist(august, bins='auto')\n",
        "plt.title(\"Histogram for August\")\n",
        "plt.show()"
      ],
      "metadata": {
        "colab": {
          "base_uri": "https://localhost:8080/",
          "height": 0
        },
        "id": "emPvRc_pX0y4",
        "outputId": "7b5f08b3-21b6-49cf-b7ed-2cf34941d9c8"
      },
      "execution_count": 143,
      "outputs": [
        {
          "output_type": "display_data",
          "data": {
            "text/plain": [
              "<Figure size 432x288 with 1 Axes>"
            ],
            "image/png": "[encoded data removed]"
          },
          "metadata": {
            "needs_background": "light"
          }
        }
      ]
    },
    {
      "cell_type": "markdown",
      "source": [
        "Histogram for November"
      ],
      "metadata": {
        "id": "k_oDAOsmYpey"
      }
    },
    {
      "cell_type": "code",
      "source": [
        "plt.hist(november, bins='auto')\n",
        "plt.title(\"Histogram for November\")\n",
        "plt.show()"
      ],
      "metadata": {
        "colab": {
          "base_uri": "https://localhost:8080/",
          "height": 0
        },
        "id": "kWiqTjQ_X5qF",
        "outputId": "2359f4d4-92b1-497a-989f-98f878165d4b"
      },
      "execution_count": 144,
      "outputs": [
        {
          "output_type": "display_data",
          "data": {
            "text/plain": [
              "<Figure size 432x288 with 1 Axes>"
            ],
            "image/png": "[encoded data removed]"
          },
          "metadata": {
            "needs_background": "light"
          }
        }
      ]
    },
    {
      "cell_type": "markdown",
      "source": [
        "## Mean and Median"
      ],
      "metadata": {
        "id": "DETgQYzLX-jH"
      }
    },
    {
      "cell_type": "markdown",
      "source": [
        "Mean and Median for August"
      ],
      "metadata": {
        "id": "bI7cCg66YGIh"
      }
    },
    {
      "cell_type": "code",
      "source": [
        "print(\"mean:\", np.mean(august))\n",
        "print(\"median:\", np.median(august))"
      ],
      "metadata": {
        "colab": {
          "base_uri": "https://localhost:8080/"
        },
        "id": "JbKv50w5X9pC",
        "outputId": "bdf33ed1-193b-44b0-b869-41db76a95ee4"
      },
      "execution_count": 145,
      "outputs": [
        {
          "output_type": "stream",
          "name": "stdout",
          "text": [
            "mean: 11.423076923076925\n",
            "median: 10.0\n"
          ]
        }
      ]
    },
    {
      "cell_type": "markdown",
      "source": [
        "Mean and Median for November"
      ],
      "metadata": {
        "id": "uAg--W_gYHvp"
      }
    },
    {
      "cell_type": "code",
      "source": [
        "print(\"mean:\", np.mean(november))\n",
        "print(\"median:\", np.median(november))"
      ],
      "metadata": {
        "colab": {
          "base_uri": "https://localhost:8080/"
        },
        "id": "lXKaaJ5KYES0",
        "outputId": "feac20ab-2043-48d8-9e98-e909884eff50"
      },
      "execution_count": 146,
      "outputs": [
        {
          "output_type": "stream",
          "name": "stdout",
          "text": [
            "mean: 16.323076923076922\n",
            "median: 15.3\n"
          ]
        }
      ]
    },
    {
      "cell_type": "markdown",
      "source": [
        "## Paired T-Test and Wilcoxon Signed Rank"
      ],
      "metadata": {
        "id": "EN_zOJPRYYZB"
      }
    },
    {
      "cell_type": "markdown",
      "source": [
        "Paired T-Test"
      ],
      "metadata": {
        "id": "7dcrDOMvY6PL"
      }
    },
    {
      "cell_type": "code",
      "source": [
        "stats.ttest_rel(august, november)"
      ],
      "metadata": {
        "colab": {
          "base_uri": "https://localhost:8080/"
        },
        "id": "3gK6-y-7Y550",
        "outputId": "6f584812-b8a4-47d5-e3a7-f21167f544f5"
      },
      "execution_count": 147,
      "outputs": [
        {
          "output_type": "execute_result",
          "data": {
            "text/plain": [
              "Ttest_relResult(statistic=-2.3088956550760438, pvalue=0.03955525086687241)"
            ]
          },
          "metadata": {},
          "execution_count": 147
        }
      ]
    },
    {
      "cell_type": "markdown",
      "source": [
        "Wilcoxon Signed Rank"
      ],
      "metadata": {
        "id": "bFLOHgGVY3-I"
      }
    },
    {
      "cell_type": "code",
      "source": [
        "stat, p = stats.wilcoxon(august,november)\n",
        "print('stat=%.3f, p=%.3f' % (stat, p))\n",
        "if p > 0.05:\n",
        "\tprint('Probably the same distribution')\n",
        "else:\n",
        "\tprint('Probably different distributions')"
      ],
      "metadata": {
        "colab": {
          "base_uri": "https://localhost:8080/"
        },
        "id": "n-OPyRtFYr_t",
        "outputId": "2866b6a2-393d-495f-d6bd-741d19599586"
      },
      "execution_count": 148,
      "outputs": [
        {
          "output_type": "stream",
          "name": "stdout",
          "text": [
            "stat=16.000, p=0.040\n",
            "Probably different distributions\n"
          ]
        }
      ]
    },
    {
      "cell_type": "markdown",
      "source": [
        "# Confidence Interval"
      ],
      "metadata": {
        "id": "5kW9qsQoZi5C"
      }
    },
    {
      "cell_type": "code",
      "source": [
        "yes = (yes,)\n",
        "no = (no,)"
      ],
      "metadata": {
        "id": "XfgkHHRzZljm"
      },
      "execution_count": 149,
      "outputs": []
    },
    {
      "cell_type": "markdown",
      "source": [
        "**Diabetic**"
      ],
      "metadata": {
        "id": "BA6YmI35ap3j"
      }
    },
    {
      "cell_type": "code",
      "source": [
        "bootstrap_ci = stats.bootstrap(yes, np.mean, confidence_level=0.95,\n",
        "                         random_state=1, method='BCa')\n",
        "\n",
        "print(bootstrap_ci.confidence_interval)"
      ],
      "metadata": {
        "colab": {
          "base_uri": "https://localhost:8080/"
        },
        "id": "gl6Qtcqqad3h",
        "outputId": "6c331a5c-3aad-49cc-ebf5-f22d9779daac"
      },
      "execution_count": 150,
      "outputs": [
        {
          "output_type": "stream",
          "name": "stdout",
          "text": [
            "ConfidenceInterval(low=71.77941176470588, high=77.29411764705883)\n"
          ]
        }
      ]
    },
    {
      "cell_type": "markdown",
      "source": [
        "**Non-Diabetic**"
      ],
      "metadata": {
        "id": "sIuLqNxPar9m"
      }
    },
    {
      "cell_type": "code",
      "source": [
        "bootstrap_ci = stats.bootstrap(no, np.mean, confidence_level=0.95,\n",
        "                         random_state=1, method='BCa')\n",
        "\n",
        "print(bootstrap_ci.confidence_interval)"
      ],
      "metadata": {
        "colab": {
          "base_uri": "https://localhost:8080/"
        },
        "id": "63eHHk0latjs",
        "outputId": "92b818eb-7e71-4b56-ecd1-b5aeddee79d3"
      },
      "execution_count": 151,
      "outputs": [
        {
          "output_type": "stream",
          "name": "stdout",
          "text": [
            "ConfidenceInterval(low=67.6590909090909, high=71.47727272727273)\n"
          ]
        }
      ]
    },
    {
      "cell_type": "markdown",
      "source": [
        "**Cohen D with Pooled Standard Deviation**"
      ],
      "metadata": {
        "id": "1Sna1qFWc2f0"
      }
    },
    {
      "cell_type": "code",
      "source": [
        "yes = dfbp.query(\"type == 'Yes'\")\n",
        "no = dfbp.query(\"type == 'No'\")\n",
        "\n",
        "yes = list(yes['bp'])\n",
        "no = list(no['bp'])"
      ],
      "metadata": {
        "id": "xvnusz9Wcpmz"
      },
      "execution_count": 152,
      "outputs": []
    },
    {
      "cell_type": "code",
      "source": [
        "from math import sqrt\n",
        " \n",
        "# function to calculate Cohen's d for independent samples\n",
        "def cohend(d1, d2):\n",
        "\t# calculate the size of samples\n",
        "\tn1, n2 = len(d1), len(d2)\n",
        "\t# calculate the variance of the samples\n",
        "\ts1, s2 = np.var(d1, ddof=1), np.var(d2, ddof=1)\n",
        "\t# calculate the pooled standard deviation\n",
        "\ts = sqrt(((n1 - 1) * s1 + (n2 - 1) * s2) / (n1 + n2 - 2))\n",
        "\t# calculate the means of the samples\n",
        "\tu1, u2 = np.mean(d1), np.mean(d2)\n",
        "\t# calculate the effect size\n",
        "\treturn (u1 - u2) / s\n",
        " \n",
        "# seed random number generator\n",
        "np.random.seed(1)\n",
        "\n",
        "# calculate cohen's d\n",
        "d = cohend(yes, no)\n",
        "print('Cohens d: %.3f' % d)"
      ],
      "metadata": {
        "colab": {
          "base_uri": "https://localhost:8080/"
        },
        "id": "kSdPbh-GccHy",
        "outputId": "d7f6d122-54ff-403c-82df-0a7dda653859"
      },
      "execution_count": 153,
      "outputs": [
        {
          "output_type": "stream",
          "name": "stdout",
          "text": [
            "Cohens d: 0.448\n"
          ]
        }
      ]
    }
  ]
}