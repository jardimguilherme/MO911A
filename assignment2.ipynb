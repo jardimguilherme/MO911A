{
  "nbformat": 4,
  "nbformat_minor": 0,
  "metadata": {
    "colab": {
      "provenance": [],
      "authorship_tag": "ABX9TyNAil3WDEpA1saFri6Tun6y",
      "include_colab_link": true
    },
    "kernelspec": {
      "name": "python3",
      "display_name": "Python 3"
    },
    "language_info": {
      "name": "python"
    }
  },
  "cells": [
    {
      "cell_type": "markdown",
      "metadata": {
        "id": "view-in-github",
        "colab_type": "text"
      },
      "source": [
        "<a href=\"https://colab.research.google.com/github/jardimguilherme/MO911A/blob/master/DataViz.ipynb\" target=\"_parent\"><img src=\"https://colab.research.google.com/assets/colab-badge.svg\" alt=\"Open In Colab\"/></a>"
      ]
    },
    {
      "cell_type": "markdown",
      "source": [
        "Libraries and directories setup"
      ],
      "metadata": {
        "id": "nOwdTGaYMZ8L"
      }
    },
    {
      "cell_type": "code",
      "source": [
        "! pip install kaggle\n",
        "! mkdir ~/.kaggle\n",
        "! cp kaggle.json ~/.kaggle\n",
        "! chmod 600 ~/.kaggle/kaggle.json"
      ],
      "metadata": {
        "id": "rfEBAHC9JCC_"
      },
      "execution_count": null,
      "outputs": []
    },
    {
      "cell_type": "markdown",
      "source": [
        "dataset download"
      ],
      "metadata": {
        "id": "tBjlduThMhUF"
      }
    },
    {
      "cell_type": "code",
      "source": [
        "! kaggle datasets download archanghosh/yugioh-database"
      ],
      "metadata": {
        "id": "I3R3Lb39LuVD"
      },
      "execution_count": null,
      "outputs": []
    },
    {
      "cell_type": "markdown",
      "source": [
        "dataset unzip"
      ],
      "metadata": {
        "id": "hUnJ35VINJA8"
      }
    },
    {
      "cell_type": "code",
      "source": [
        "! unzip yugioh-database.zip"
      ],
      "metadata": {
        "id": "34uiS1O0MnYm"
      },
      "execution_count": null,
      "outputs": []
    },
    {
      "cell_type": "markdown",
      "source": [
        "libraries to handle data"
      ],
      "metadata": {
        "id": "YWMM0wfKNFtf"
      }
    },
    {
      "cell_type": "code",
      "source": [
        "import numpy as np\n",
        "import pandas as pd"
      ],
      "metadata": {
        "id": "hLxRsXV5NC0V"
      },
      "execution_count": 10,
      "outputs": []
    },
    {
      "cell_type": "markdown",
      "source": [
        "cleaning column names"
      ],
      "metadata": {
        "id": "7MqzaXyDO--g"
      }
    },
    {
      "cell_type": "code",
      "source": [
        "data = pd.read_csv(\"Yugi_db_cleaned.csv\")\n",
        "data.columns = data.columns.str.replace(' ', '')\n",
        "data.columns = data.columns.str.replace('/', '')\n",
        "data.columns = data.columns.str.replace('_', '')\n",
        "data.columns = data.columns.str.replace('-', '')\n",
        "\n",
        "data.columns"
      ],
      "metadata": {
        "id": "jlKiEr-9OMx_"
      },
      "execution_count": null,
      "outputs": []
    },
    {
      "cell_type": "markdown",
      "source": [
        "spliting ATK/DEF column into two different columns (one for attack and one for defense)"
      ],
      "metadata": {
        "id": "1VudUpOlQaAy"
      }
    },
    {
      "cell_type": "code",
      "source": [
        "data[['ATK','DEF']] = data.ATKDEF.str.split(\" / \", expand=True)"
      ],
      "metadata": {
        "id": "iq6nJ4kBPazv"
      },
      "execution_count": 31,
      "outputs": []
    }
  ]
}
