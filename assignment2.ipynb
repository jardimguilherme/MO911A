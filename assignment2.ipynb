{
  "nbformat": 4,
  "nbformat_minor": 0,
  "metadata": {
    "colab": {
      "provenance": [],
      "collapsed_sections": [
        "06mZ_OTRigoQ",
        "BoN1NdNAi1AC",
        "PlvvUBAIi6zn",
        "nYK_vvvjjWHj",
        "M-C72WumjKps",
        "-1-q8TYcjPIK"
      ],
      "authorship_tag": "ABX9TyOwfp0uc/GIV8Pc2z5ndZ67",
      "include_colab_link": true
    },
    "kernelspec": {
      "name": "python3",
      "display_name": "Python 3"
    },
    "language_info": {
      "name": "python"
    }
  },
  "cells": [
    {
      "cell_type": "markdown",
      "metadata": {
        "id": "view-in-github",
        "colab_type": "text"
      },
      "source": [
        "<a href=\"https://colab.research.google.com/github/jardimguilherme/MO911A/blob/master/assignment2.ipynb\" target=\"_parent\"><img src=\"https://colab.research.google.com/assets/colab-badge.svg\" alt=\"Open In Colab\"/></a>"
      ]
    },
    {
      "cell_type": "markdown",
      "source": [
        "# Yugioh Dataset\n",
        "\n",
        "Yugioh is a popular trading card game (TCG) played since the late 90's.\n",
        "\n",
        "The chosen trading card game consists on 3 major types of cards: creatures, spells, and traps.\n",
        "Each of those cards possess attributes of their own.\n",
        "\n",
        "This assignment will focus on exploring data on yugioh creatures. Creature cards on yugioh have characteristics such as level, attack, defense, attribute, and so on and so forth.\n",
        "\n",
        "For this assignment, I chose to explore the dataset containing data extracted from the cards within the game\n",
        "\n",
        "The agenda of this assignment consists of:\n",
        "1.   Configuring the working environment\n",
        "2.   Importing the dataset\n",
        "3.   Cleaning and formatting the data\n",
        "4.   Plotting the graphs\n",
        "\n"
      ],
      "metadata": {
        "id": "TzFBRCFphfz4"
      }
    },
    {
      "cell_type": "markdown",
      "source": [
        "# Configuring the working environment "
      ],
      "metadata": {
        "id": "06mZ_OTRigoQ"
      }
    },
    {
      "cell_type": "markdown",
      "source": [
        "Libraries and directories setup"
      ],
      "metadata": {
        "id": "nOwdTGaYMZ8L"
      }
    },
    {
      "cell_type": "code",
      "source": [
        "! pip install kaggle\n",
        "! mkdir ~/.kaggle\n",
        "! cp kaggle.json ~/.kaggle\n",
        "! chmod 600 ~/.kaggle/kaggle.json\n",
        "\n",
        "import numpy as np\n",
        "import pandas as pd\n",
        "import matplotlib.pyplot as plt"
      ],
      "metadata": {
        "id": "rfEBAHC9JCC_"
      },
      "execution_count": null,
      "outputs": []
    },
    {
      "cell_type": "markdown",
      "source": [
        "# Importing the dataset"
      ],
      "metadata": {
        "id": "BoN1NdNAi1AC"
      }
    },
    {
      "cell_type": "markdown",
      "source": [
        "dataset download"
      ],
      "metadata": {
        "id": "tBjlduThMhUF"
      }
    },
    {
      "cell_type": "code",
      "source": [
        "! kaggle datasets download archanghosh/yugioh-database"
      ],
      "metadata": {
        "id": "I3R3Lb39LuVD"
      },
      "execution_count": null,
      "outputs": []
    },
    {
      "cell_type": "markdown",
      "source": [
        "dataset unzip"
      ],
      "metadata": {
        "id": "hUnJ35VINJA8"
      }
    },
    {
      "cell_type": "code",
      "source": [
        "! unzip yugioh-database.zip"
      ],
      "metadata": {
        "id": "34uiS1O0MnYm"
      },
      "execution_count": null,
      "outputs": []
    },
    {
      "cell_type": "markdown",
      "source": [
        "# Cleaning and formatting the data"
      ],
      "metadata": {
        "id": "PlvvUBAIi6zn"
      }
    },
    {
      "cell_type": "markdown",
      "source": [
        "cleaning column names"
      ],
      "metadata": {
        "id": "7MqzaXyDO--g"
      }
    },
    {
      "cell_type": "code",
      "source": [
        "data = pd.read_csv(\"Yugi_db_cleaned.csv\")\n",
        "data.columns = data.columns.str.replace(' ', '')\n",
        "data.columns = data.columns.str.replace('/', '')\n",
        "data.columns = data.columns.str.replace('_', '')\n",
        "data.columns = data.columns.str.replace('-', '')\n",
        "data.columns = data.columns.str.replace('(', '')\n",
        "data.columns = data.columns.str.replace(')', '')\n",
        "\n",
        "data.columns"
      ],
      "metadata": {
        "colab": {
          "base_uri": "https://localhost:8080/"
        },
        "id": "jlKiEr-9OMx_",
        "outputId": "efd38eac-b255-45d5-d008-d2d96f6de607"
      },
      "execution_count": 48,
      "outputs": [
        {
          "output_type": "stream",
          "name": "stderr",
          "text": [
            "<ipython-input-48-d14dfd2d4f1f>:6: FutureWarning: The default value of regex will change from True to False in a future version. In addition, single character regular expressions will *not* be treated as literal strings when regex=True.\n",
            "  data.columns = data.columns.str.replace('(', '')\n",
            "<ipython-input-48-d14dfd2d4f1f>:7: FutureWarning: The default value of regex will change from True to False in a future version. In addition, single character regular expressions will *not* be treated as literal strings when regex=True.\n",
            "  data.columns = data.columns.str.replace(')', '')\n"
          ]
        },
        {
          "output_type": "execute_result",
          "data": {
            "text/plain": [
              "Index(['Imagename', 'Cardset', 'Cardnumber', 'Rarity', 'Cardname',\n",
              "       'Othernames', 'Cardtype', 'Attribute', 'Types', 'Level', 'ATKDEF',\n",
              "       'Password', 'Status', 'Effecttypes', 'Ritualrequired', 'Property',\n",
              "       'RitualMonsterrequired', 'PendulumScale', 'Rank', 'LinkArrows',\n",
              "       'ATKLINK', 'OthernamesJapanese', 'Summonedbytheeffectof'],\n",
              "      dtype='object')"
            ]
          },
          "metadata": {},
          "execution_count": 48
        }
      ]
    },
    {
      "cell_type": "markdown",
      "source": [
        "spliting ATK/DEF column into two different columns (one for attack and one for defense)"
      ],
      "metadata": {
        "id": "1VudUpOlQaAy"
      }
    },
    {
      "cell_type": "code",
      "source": [
        "data[['ATK','DEF']] = data.ATKDEF.str.split(\" / \", expand=True)"
      ],
      "metadata": {
        "id": "iq6nJ4kBPazv"
      },
      "execution_count": 116,
      "outputs": []
    },
    {
      "cell_type": "markdown",
      "source": [
        "Cleaning unwanted columns and creating dataframe for graphs plotting"
      ],
      "metadata": {
        "id": "s_geIjUWZoc1"
      }
    },
    {
      "cell_type": "code",
      "source": [
        "dataframe = pd.DataFrame(data)\n",
        "dataframe = dataframe.drop(columns=['Cardnumber', 'Password', 'Status', 'PendulumScale', 'Rank', 'Effecttypes','Imagename', 'Cardset', 'Rarity', 'Othernames', 'ATKDEF', 'RitualMonsterrequired', 'LinkArrows', 'ATKLINK', 'Summonedbytheeffectof', 'OthernamesJapanese', 'Property', 'Ritualrequired'])"
      ],
      "metadata": {
        "id": "6twkIN5VYRbm"
      },
      "execution_count": 240,
      "outputs": []
    },
    {
      "cell_type": "code",
      "source": [
        "dataframe.columns"
      ],
      "metadata": {
        "colab": {
          "base_uri": "https://localhost:8080/"
        },
        "id": "ICZ-XCnzZuT1",
        "outputId": "eed181e0-1c57-4ca6-c3b8-5950fb833e21"
      },
      "execution_count": 241,
      "outputs": [
        {
          "output_type": "execute_result",
          "data": {
            "text/plain": [
              "Index(['Cardname', 'Cardtype', 'Attribute', 'Types', 'Level', 'ATK', 'DEF'], dtype='object')"
            ]
          },
          "metadata": {},
          "execution_count": 241
        }
      ]
    },
    {
      "cell_type": "markdown",
      "source": [
        "# Plotting the Graphs"
      ],
      "metadata": {
        "id": "ri2GvkaCi9-c"
      }
    },
    {
      "cell_type": "markdown",
      "source": [
        "## Histogram"
      ],
      "metadata": {
        "id": "nYK_vvvjjWHj"
      }
    },
    {
      "cell_type": "markdown",
      "source": [
        "This histogram shows the number of creatures per level"
      ],
      "metadata": {
        "id": "qOxNPYSHCWoa"
      }
    },
    {
      "cell_type": "code",
      "source": [
        "df = dataframe.query(\"Cardtype == 'Monster'\")\n",
        "\n",
        "df['Level'].plot(kind='hist', figsize=(8,5), title='Number of creatures per level', color=(0.2, 0.4, 0.6, 0.6), width=0.9)\n",
        "plt.xlabel('Level')"
      ],
      "metadata": {
        "colab": {
          "base_uri": "https://localhost:8080/",
          "height": 368
        },
        "id": "FBspIlF5jZZu",
        "outputId": "430ce319-cd66-417a-c580-7c6c6b7d8134"
      },
      "execution_count": 284,
      "outputs": [
        {
          "output_type": "execute_result",
          "data": {
            "text/plain": [
              "Text(0.5, 0, 'Level')"
            ]
          },
          "metadata": {},
          "execution_count": 284
        },
        {
          "output_type": "display_data",
          "data": {
            "text/plain": [
              "<Figure size 576x360 with 1 Axes>"
            ],
            "image/png": "[encoded data removed]"
          },
          "metadata": {
            "needs_background": "light"
          }
        }
      ]
    },
    {
      "cell_type": "markdown",
      "source": [
        "## Pie Chart"
      ],
      "metadata": {
        "id": "M-C72WumjKps"
      }
    },
    {
      "cell_type": "markdown",
      "source": [
        "The following pie chart displays the percentage of creatures per attribute"
      ],
      "metadata": {
        "id": "dyC8EukThW0T"
      }
    },
    {
      "cell_type": "code",
      "source": [
        "entries = dataframe['Attribute'].value_counts()\n",
        "\n",
        "colors = ['#9B30FF', '#8B7355', '#FFF68F', '#BFEFFF', '#4876FF', '#FF3030', '#FFFF00']\n",
        "\n",
        "entries.plot(kind='pie', autopct='%1.1f%%', explode=[0.08,0.08,0.08,0.08,0.08,0.08,0.08], colors=colors, title='Creature Types', figsize=(8,8))\n",
        "plt.axis('off')\n",
        "plt.show"
      ],
      "metadata": {
        "colab": {
          "base_uri": "https://localhost:8080/",
          "height": 500
        },
        "id": "Nv7dDUyCaENw",
        "outputId": "ba98bf8b-4109-467b-84de-5b2d5db0e9ef"
      },
      "execution_count": 274,
      "outputs": [
        {
          "output_type": "execute_result",
          "data": {
            "text/plain": [
              "<function matplotlib.pyplot.show(*args, **kw)>"
            ]
          },
          "metadata": {},
          "execution_count": 274
        },
        {
          "output_type": "display_data",
          "data": {
            "text/plain": [
              "<Figure size 576x576 with 1 Axes>"
            ],
            "image/png": "[encoded data removed]"
          },
          "metadata": {}
        }
      ]
    },
    {
      "cell_type": "markdown",
      "source": [
        "##Scatter Plot"
      ],
      "metadata": {
        "id": "-1-q8TYcjPIK"
      }
    },
    {
      "cell_type": "markdown",
      "source": [
        "For the scatter plot, we want to check the distribution of the attack (atk) attribute per level.\n",
        "Since some creatures do not have level nor attack, we will drop those entries"
      ],
      "metadata": {
        "id": "UOqCNrlgEjlX"
      }
    },
    {
      "cell_type": "code",
      "source": [
        "df = dataframe.query(\"Cardtype == 'Monster'\")\n",
        "df = df.dropna()\n",
        "df = df[df.ATK != '?']"
      ],
      "metadata": {
        "id": "BlCRTLmfjUAz"
      },
      "execution_count": null,
      "outputs": []
    },
    {
      "cell_type": "markdown",
      "source": [
        "After the last data cleaning, for this analysis, we achieve the following scatter plot"
      ],
      "metadata": {
        "id": "2agchOxzEz43"
      }
    },
    {
      "cell_type": "code",
      "source": [
        "rng = np.random.RandomState(10)\n",
        "\n",
        "y = df['Level'].astype('int')\n",
        "x = df['ATK'].astype('int')\n",
        "\n",
        "plt.figure(figsize=(22,10))\n",
        "plt.scatter(x, y)"
      ],
      "metadata": {
        "colab": {
          "base_uri": "https://localhost:8080/",
          "height": 608
        },
        "id": "3z2HLxFYE0Uu",
        "outputId": "b7dec0d9-24b0-4e4c-ce56-bbe90f1bf986"
      },
      "execution_count": 322,
      "outputs": [
        {
          "output_type": "execute_result",
          "data": {
            "text/plain": [
              "<matplotlib.collections.PathCollection at 0x7f3b0e38e820>"
            ]
          },
          "metadata": {},
          "execution_count": 322
        },
        {
          "output_type": "display_data",
          "data": {
            "text/plain": [
              "<Figure size 1584x720 with 1 Axes>"
            ],
            "image/png": "[encoded data removed]"
          },
          "metadata": {
            "needs_background": "light"
          }
        }
      ]
    }
  ]
}